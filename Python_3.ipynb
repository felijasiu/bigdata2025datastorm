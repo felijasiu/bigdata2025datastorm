{
  "nbformat": 4,
  "nbformat_minor": 0,
  "metadata": {
    "colab": {
      "provenance": [],
      "include_colab_link": true
    },
    "kernelspec": {
      "name": "python3",
      "display_name": "Python 3"
    },
    "language_info": {
      "name": "python"
    }
  },
  "cells": [
    {
      "cell_type": "markdown",
      "metadata": {
        "id": "view-in-github",
        "colab_type": "text"
      },
      "source": [
        "<a href=\"https://colab.research.google.com/github/felijasiu/bigdata2025datastorm/blob/main/Python_3.ipynb\" target=\"_parent\"><img src=\"https://colab.research.google.com/assets/colab-badge.svg\" alt=\"Open In Colab\"/></a>"
      ]
    },
    {
      "cell_type": "markdown",
      "metadata": {
        "id": "cI2oLEoSbIYs"
      },
      "source": [
        "#Big Data\n",
        "Estructuras de control y funciones clásicas"
      ]
    },
    {
      "cell_type": "markdown",
      "metadata": {
        "id": "J3Ep-qUGdjVB"
      },
      "source": [
        "### 1) Nuestro amigo el **IF**"
      ]
    },
    {
      "cell_type": "code",
      "metadata": {
        "id": "1LySJL4YbPIe",
        "colab": {
          "base_uri": "https://localhost:8080/"
        },
        "outputId": "6020065c-c8c5-40b6-dbf5-ea5d089625a1"
      },
      "source": [
        "nro_de_cliente=999\n",
        "\n",
        "if nro_de_cliente==999:\n",
        "  print('es el cliente 999!!')\n",
        "else:\n",
        "  print('cliente no encontrado :(')"
      ],
      "execution_count": 1,
      "outputs": [
        {
          "output_type": "stream",
          "name": "stdout",
          "text": [
            "es el cliente 999!!\n"
          ]
        }
      ]
    },
    {
      "cell_type": "code",
      "metadata": {
        "id": "67gC1BqWgaQ8"
      },
      "source": [
        "nro_de_cliente=999"
      ],
      "execution_count": null,
      "outputs": []
    },
    {
      "cell_type": "code",
      "metadata": {
        "id": "yyMPrDjAezyW"
      },
      "source": [
        "# if anidado\n",
        "if nro_de_cliente==999:\n",
        "  print('es el cliente 999!!')\n",
        "elif nro_de_cliente==111:\n",
        "  print('es el cliente 111!!')\n",
        "else:\n",
        "  print('cliente no encontrado :(')"
      ],
      "execution_count": null,
      "outputs": []
    },
    {
      "cell_type": "markdown",
      "metadata": {
        "id": "xajuQeX8hBOH"
      },
      "source": [
        "Igual: x1 == x2\n",
        "\n",
        "Distinto: x1 != x2\n",
        "\n",
        "Menor a: x1 < x2\n",
        "\n",
        "Menor o igual a: x1 <= x2\n",
        "\n",
        "Mayor a: x1 > x2\n",
        "\n",
        "Mayor o igual x1 >= x2\n",
        "\n"
      ]
    },
    {
      "cell_type": "markdown",
      "metadata": {
        "id": "9YMSatf7GdTg"
      },
      "source": [
        "### 2) *Mientras* vemos el `while`"
      ]
    },
    {
      "cell_type": "code",
      "metadata": {
        "id": "QVSbcls-fU0Q"
      },
      "source": [
        "# imprimir 3 elementos\n",
        "i=0\n",
        "\n",
        "while(i<6):\n",
        "  i=i+1\n",
        "  print(i)"
      ],
      "execution_count": null,
      "outputs": []
    },
    {
      "cell_type": "code",
      "metadata": {
        "id": "xHKV5FmfQuIL"
      },
      "source": [
        "# bucle infinito\n",
        "while(1):\n",
        "  x1=input('¿Nombre? ')\n",
        "\n",
        "  if x1=='me aburri':\n",
        "    break\n",
        "\n",
        "  print('Bienvenido! ' + x1)\n"
      ],
      "execution_count": null,
      "outputs": []
    },
    {
      "cell_type": "markdown",
      "metadata": {
        "id": "bSL5eukOGqWt"
      },
      "source": [
        "### 3) *Para* que usar while, si hay `for`!"
      ]
    },
    {
      "cell_type": "code",
      "metadata": {
        "id": "HU0HEgXxG0YX"
      },
      "source": [
        "lista=[1,2,3,4,5,6]"
      ],
      "execution_count": null,
      "outputs": []
    },
    {
      "cell_type": "code",
      "metadata": {
        "id": "vawmdM8uU-dH"
      },
      "source": [
        "for i in lista:\n",
        "\n",
        "  if i == 5:\n",
        "    break\n",
        "\n",
        "  print(i)"
      ],
      "execution_count": null,
      "outputs": []
    },
    {
      "cell_type": "markdown",
      "metadata": {
        "id": "nL1rI-ECZ0ny"
      },
      "source": [
        "¿Cómo usar for sobre pandas data frame?"
      ]
    },
    {
      "cell_type": "code",
      "metadata": {
        "id": "tIs6PtDOVt2v"
      },
      "source": [
        "import pandas as pd\n",
        "\n",
        "d_star_wars=pd.read_csv(filepath_or_buffer=\"https://raw.githubusercontent.com/fpineyro/homework-0/master/starwars.csv\", sep=',')\n",
        "d_star_wars.head()"
      ],
      "execution_count": null,
      "outputs": []
    },
    {
      "cell_type": "code",
      "metadata": {
        "id": "wTZNFp3pYgIx"
      },
      "source": [
        "# no hacer así\n",
        "for row in d_star_wars:\n",
        "  print(row)\n",
        "\n"
      ],
      "execution_count": null,
      "outputs": []
    },
    {
      "cell_type": "code",
      "metadata": {
        "id": "mJ7MF-pYZOn0"
      },
      "source": [
        "# Usar iterrows()\n",
        "\n",
        "for label, row in d_star_wars[:5].iterrows():\n",
        "  print('El label es: ' + str(label))\n",
        "  print(row)"
      ],
      "execution_count": null,
      "outputs": []
    },
    {
      "cell_type": "markdown",
      "metadata": {
        "id": "1NfhynzId6GV"
      },
      "source": [
        "Accediendo a cada valor:"
      ]
    },
    {
      "cell_type": "code",
      "metadata": {
        "id": "_2lhjKIWbZ8a"
      },
      "source": [
        "for _, row in d_star_wars[:10].iterrows():\n",
        "  print('Personaje: ' + row['name'] + ' lugar ' + row['homeworld'])"
      ],
      "execution_count": null,
      "outputs": []
    },
    {
      "cell_type": "markdown",
      "metadata": {
        "id": "YwD3bxuAHNMr"
      },
      "source": [
        "### 4) ¿Cómo crear funciones en Python?"
      ]
    },
    {
      "cell_type": "code",
      "metadata": {
        "id": "FWOLiXGWG7WW"
      },
      "source": [
        "def mi_funcion():\n",
        "  print('hola mundo')"
      ],
      "execution_count": null,
      "outputs": []
    },
    {
      "cell_type": "code",
      "metadata": {
        "id": "zh6u37TAgMEi"
      },
      "source": [
        "mi_funcion()"
      ],
      "execution_count": null,
      "outputs": []
    },
    {
      "cell_type": "markdown",
      "metadata": {
        "id": "3bTI57ZogYXR"
      },
      "source": [
        "¿Cómo crear una función con parámetros?"
      ]
    },
    {
      "cell_type": "code",
      "metadata": {
        "id": "yytTT0DbgOrv"
      },
      "source": [
        "def sumar(valor1, valor2):\n",
        "  return valor1 + valor2"
      ],
      "execution_count": null,
      "outputs": []
    },
    {
      "cell_type": "code",
      "source": [
        "def restar(valor1, valor2):\n",
        "  return valor1 - valor2"
      ],
      "metadata": {
        "id": "abfN_WznglL4"
      },
      "execution_count": null,
      "outputs": []
    },
    {
      "cell_type": "code",
      "metadata": {
        "id": "c2gtCG9LiL89"
      },
      "source": [
        "sumar(valor1 = 5, valor2= 5)"
      ],
      "execution_count": null,
      "outputs": []
    },
    {
      "cell_type": "code",
      "source": [
        "valor1 = 5\n",
        "valor2 = 5"
      ],
      "metadata": {
        "id": "bAYuSJqlgwrt"
      },
      "execution_count": null,
      "outputs": []
    },
    {
      "cell_type": "code",
      "source": [
        "restar(valor1, valor2)"
      ],
      "metadata": {
        "id": "7SWw634lgqbp"
      },
      "execution_count": null,
      "outputs": []
    },
    {
      "cell_type": "markdown",
      "metadata": {
        "id": "TFYnkSUyifyw"
      },
      "source": [
        "¿Cómo explorar el contenido de una función?"
      ]
    },
    {
      "cell_type": "code",
      "metadata": {
        "id": "79amaexLhSnT"
      },
      "source": [
        "%%capture\n",
        "!pip install funpymodeling"
      ],
      "execution_count": null,
      "outputs": []
    },
    {
      "cell_type": "code",
      "metadata": {
        "id": "ML9ZMIp1hOlc"
      },
      "source": [
        "from funpymodeling.exploratory import status"
      ],
      "execution_count": null,
      "outputs": []
    },
    {
      "cell_type": "code",
      "metadata": {
        "id": "tfBfa_3Dhjuk"
      },
      "source": [
        "status(d_star_wars)"
      ],
      "execution_count": null,
      "outputs": []
    },
    {
      "cell_type": "code",
      "metadata": {
        "id": "W_QZcSykjzzU"
      },
      "source": [
        "#calcula la cantidad de valores únicos presentes en cada columna del DataFrame.\n",
        "d_star_wars.nunique().values"
      ],
      "execution_count": null,
      "outputs": []
    },
    {
      "cell_type": "code",
      "metadata": {
        "id": "2sSjW66_lCgn"
      },
      "source": [
        "d_star_wars.columns"
      ],
      "execution_count": null,
      "outputs": []
    },
    {
      "cell_type": "code",
      "metadata": {
        "id": "hDe0C5AZjJ6m"
      },
      "source": [
        "def status2(data):\n",
        "  return pd.DataFrame({'variables': data.columns, 'valores_unicos':data.nunique().values})"
      ],
      "execution_count": null,
      "outputs": []
    },
    {
      "cell_type": "code",
      "metadata": {
        "id": "yPMsycHylW8e"
      },
      "source": [
        "status2(d_star_wars)"
      ],
      "execution_count": null,
      "outputs": []
    },
    {
      "cell_type": "markdown",
      "metadata": {
        "id": "q2dvWHTtmej0"
      },
      "source": [
        "<br>\n",
        "\n",
        "---\n",
        "\n",
        "\n",
        "\n",
        "# C.2.1) ¿Qué es `numpy`?"
      ]
    },
    {
      "cell_type": "code",
      "metadata": {
        "id": "uEnElyY8mhle"
      },
      "source": [
        "import numpy as np"
      ],
      "execution_count": 2,
      "outputs": []
    },
    {
      "cell_type": "code",
      "metadata": {
        "id": "jV94rfWIs-20"
      },
      "source": [
        "arr1 = np.array([1,2,3,4,5])"
      ],
      "execution_count": null,
      "outputs": []
    },
    {
      "cell_type": "code",
      "metadata": {
        "id": "wuR34pMrtXh0"
      },
      "source": [
        "arr1"
      ],
      "execution_count": null,
      "outputs": []
    },
    {
      "cell_type": "code",
      "metadata": {
        "id": "itbIWebQtYIu"
      },
      "source": [
        "arr1+arr1"
      ],
      "execution_count": null,
      "outputs": []
    },
    {
      "cell_type": "code",
      "metadata": {
        "id": "o9SR0siKwHw5"
      },
      "source": [
        "arr1.shape # ranking 1"
      ],
      "execution_count": null,
      "outputs": []
    },
    {
      "cell_type": "markdown",
      "metadata": {
        "id": "9yxksq9yvEuG"
      },
      "source": [
        "¿Cómo crear un \"tabla\" en numpy?\n",
        "\n",
        "Rank 2 array / 2D"
      ]
    },
    {
      "cell_type": "code",
      "metadata": {
        "id": "Vl1K6UipuLL5"
      },
      "source": [
        "arr2=np.array([[1,2,3,4,5], [9,8,7,6,5]])\n",
        "\n",
        "arr2"
      ],
      "execution_count": null,
      "outputs": []
    },
    {
      "cell_type": "code",
      "metadata": {
        "id": "QGDfksX8uyoW"
      },
      "source": [
        "arr2.shape"
      ],
      "execution_count": null,
      "outputs": []
    },
    {
      "cell_type": "markdown",
      "metadata": {
        "id": "Fup8L7rfxMtT"
      },
      "source": [
        "Rank 3 array / 3D"
      ]
    },
    {
      "cell_type": "code",
      "metadata": {
        "id": "bqFsF670vK0n"
      },
      "source": [
        "arr3=np.array([[[1,2,3,4,5], [9,8,7,6,5]]])"
      ],
      "execution_count": null,
      "outputs": []
    },
    {
      "cell_type": "code",
      "metadata": {
        "id": "o7_ZpY1xw9mw"
      },
      "source": [
        "arr3.shape"
      ],
      "execution_count": null,
      "outputs": []
    },
    {
      "cell_type": "markdown",
      "metadata": {
        "id": "dApZmci1-txe"
      },
      "source": [
        "### C.2.2) ¿Cómo hacer `reshape` en numpy?"
      ]
    },
    {
      "cell_type": "code",
      "metadata": {
        "id": "kvraE8qU-t94"
      },
      "source": [
        "arr3=np.array([1,2,3,4,5,6])\n",
        "print(arr3)\n",
        "print(arr3.shape)"
      ],
      "execution_count": null,
      "outputs": []
    },
    {
      "cell_type": "code",
      "metadata": {
        "id": "gsainvYu_N54"
      },
      "source": [
        "arr4=arr3.reshape((2,3))\n",
        "\n",
        "arr4"
      ],
      "execution_count": null,
      "outputs": []
    },
    {
      "cell_type": "code",
      "metadata": {
        "id": "RnBoAXGL_UBE"
      },
      "source": [
        "arr4.shape"
      ],
      "execution_count": null,
      "outputs": []
    },
    {
      "cell_type": "markdown",
      "metadata": {
        "id": "hM0ESIjuA10y"
      },
      "source": [
        "¿Cómo hacer flatten de un numpy array?"
      ]
    },
    {
      "cell_type": "code",
      "metadata": {
        "id": "i8UDMH0hAtqz"
      },
      "source": [
        "arr5=arr4.flatten()\n",
        "arr5"
      ],
      "execution_count": null,
      "outputs": []
    },
    {
      "cell_type": "markdown",
      "metadata": {
        "id": "Eelr5hzPCQU0"
      },
      "source": [
        "### C.2.3) ¿Cómo hacer slice de numpy?"
      ]
    },
    {
      "cell_type": "code",
      "metadata": {
        "id": "-thB6iq0CpDo"
      },
      "source": [
        "arr1"
      ],
      "execution_count": null,
      "outputs": []
    },
    {
      "cell_type": "code",
      "metadata": {
        "id": "ee7oWKopCZJA"
      },
      "source": [
        "# 1er elemento\n",
        "arr1[0]"
      ],
      "execution_count": null,
      "outputs": []
    },
    {
      "cell_type": "code",
      "metadata": {
        "id": "EDpmpja7CrWn"
      },
      "source": [
        "arr1[0:3]"
      ],
      "execution_count": null,
      "outputs": []
    },
    {
      "cell_type": "markdown",
      "metadata": {
        "id": "0J2X5c-sDHkz"
      },
      "source": [
        "### C.2.4) ¿Cómo acceder a arrays n-dimensionales?"
      ]
    },
    {
      "cell_type": "code",
      "metadata": {
        "id": "YygaoyS-C49s"
      },
      "source": [
        "arr4"
      ],
      "execution_count": null,
      "outputs": []
    },
    {
      "cell_type": "code",
      "metadata": {
        "id": "I_PlzGPWCFvn"
      },
      "source": [
        "arr4[0,:]"
      ],
      "execution_count": null,
      "outputs": []
    },
    {
      "cell_type": "code",
      "metadata": {
        "id": "45tMun8LCW61"
      },
      "source": [
        "arr4[1,0]"
      ],
      "execution_count": null,
      "outputs": []
    },
    {
      "cell_type": "code",
      "metadata": {
        "id": "mrLmYIs1C8tV"
      },
      "source": [
        "arr4[1,0:2]"
      ],
      "execution_count": null,
      "outputs": []
    },
    {
      "cell_type": "code",
      "metadata": {
        "id": "iPVrpeENDRiZ"
      },
      "source": [
        "# acceder a toda la 1er dimensión\n",
        "arr4[0]"
      ],
      "execution_count": null,
      "outputs": []
    },
    {
      "cell_type": "markdown",
      "metadata": {
        "id": "ZOkr3C5iI3Lg"
      },
      "source": [
        "Imagen resumen numpy\n",
        "\n",
        "<img src=\"https://fgnt.github.io/python_crashkurs_doc/_images/numpy_array_t.png\" width=\"300px\">\n",
        "\n",
        "[Fuente](https://fgnt.github.io/python_crashkurs_doc/include/numpy.html)."
      ]
    },
    {
      "cell_type": "markdown",
      "source": [
        "#Ejercicios"
      ],
      "metadata": {
        "id": "WAV6NDSM0mK3"
      }
    },
    {
      "cell_type": "markdown",
      "source": [
        "Ejercicio 1: Crear un if anidado para verificar si el numero de cliente está entre 0 y 4, le decimos 'usuario autorizado' en cualquier otro caso indicar 'usuario no autorizado'."
      ],
      "metadata": {
        "id": "H499SypW0sg3"
      }
    },
    {
      "cell_type": "code",
      "source": [
        "#Ejercicio 1\n",
        "\n",
        "cliente = int(input(\"Ingrese su número de cliente: \"))\n",
        "\n",
        "if cliente >= 0:\n",
        "    if cliente <= 4:\n",
        "        print(\"Usuario autorizado\")\n",
        "    else:\n",
        "        print(\"Usuario no autorizado\")\n",
        "else:\n",
        "    print(\"Usuario no autorizado\")"
      ],
      "metadata": {
        "id": "AQ167X7S0v_s",
        "colab": {
          "base_uri": "https://localhost:8080/"
        },
        "outputId": "21eb44fc-3460-4c9d-e8ef-14ae3bf09d78"
      },
      "execution_count": 3,
      "outputs": [
        {
          "output_type": "stream",
          "name": "stdout",
          "text": [
            "Ingrese su número de cliente: 3\n",
            "Usuario autorizado\n"
          ]
        }
      ]
    },
    {
      "cell_type": "markdown",
      "source": [
        "Ejercicio 2: Mediante while solicitar al usuario que ingrese un número entre 1 y 5. Si el número ingresado es 3 que imprima 'Usted ha ganado la loteria'"
      ],
      "metadata": {
        "id": "wewZmHDu2qRD"
      }
    },
    {
      "cell_type": "code",
      "source": [
        "#Ejercicio 2\n",
        "\n",
        "while True:\n",
        "    numero = int(input(\"Ingrese un número entre 1 y 5: \"))\n",
        "\n",
        "    if 1 <= numero <= 5:\n",
        "        if numero == 3:\n",
        "            print(\"¡GANASTE!\")\n",
        "            break\n",
        "        else:\n",
        "            print(\"Talvez la proxima ganes\")\n",
        "    else:\n",
        "        print(\"Número fuera de rango. Intente nuevamente.\")"
      ],
      "metadata": {
        "id": "5hWJkokk3Diu",
        "colab": {
          "base_uri": "https://localhost:8080/"
        },
        "outputId": "5cbdf8f5-72a3-428d-da94-f490dc42e107"
      },
      "execution_count": 5,
      "outputs": [
        {
          "output_type": "stream",
          "name": "stdout",
          "text": [
            "Ingrese un número entre 1 y 5: 3\n",
            "¡GANASTE!\n"
          ]
        }
      ]
    },
    {
      "cell_type": "markdown",
      "source": [
        "Ejercicio 3: Crear una lista que contenga los valores desde 0 a 10. Luego solicitar que se ingrese un número entre 0 y 10. Imprimir en pantalla los valores de la lista hasta el número que ingresaron"
      ],
      "metadata": {
        "id": "cUg-IloF4X6y"
      }
    },
    {
      "cell_type": "code",
      "source": [
        "#Ejercicio 3\n",
        "\n",
        "valores = list(range(11))\n",
        "\n",
        "numero = int(input(\"Ingrese un número entre 0 y 10: \"))\n",
        "\n",
        "# Verificamos que esté dentro del rango\n",
        "if 0 <= numero <= 10:\n",
        "    for i in range(numero + 1):\n",
        "        print(valores[i])\n",
        "else:\n",
        "    print(\"Número fuera de rango.\")"
      ],
      "metadata": {
        "id": "RJIQThlu4Xb3",
        "colab": {
          "base_uri": "https://localhost:8080/"
        },
        "outputId": "96c9d883-dd4d-4b05-cdc0-e4f3cfd081c1"
      },
      "execution_count": 7,
      "outputs": [
        {
          "output_type": "stream",
          "name": "stdout",
          "text": [
            "Ingrese un número entre 0 y 10: 3\n",
            "0\n",
            "1\n",
            "2\n",
            "3\n"
          ]
        }
      ]
    },
    {
      "cell_type": "markdown",
      "source": [
        "Ejercicio 4: Solicitar que se ingresen dos valores, mediante una función sumar estos dos numero y mostrar el resutaldo en pantalla"
      ],
      "metadata": {
        "id": "rM8ByOxC6L_L"
      }
    },
    {
      "cell_type": "code",
      "source": [
        "#Ejercicio 4\n",
        "#Función\n",
        "\n",
        "def sumar(a, b):\n",
        "    return a + b\n",
        "\n",
        "num1 = float(input(\"Ingrese el primer número: \"))\n",
        "num2 = float(input(\"Ingrese el segundo número: \"))\n",
        "\n",
        "resultado = sumar(num1, num2)\n",
        "print(\"El resultado de la suma es:\", resultado)"
      ],
      "metadata": {
        "id": "TTZjeMkR6zN8",
        "colab": {
          "base_uri": "https://localhost:8080/"
        },
        "outputId": "6fe5e0b2-7161-4087-df51-ff84fe79aabb"
      },
      "execution_count": 8,
      "outputs": [
        {
          "output_type": "stream",
          "name": "stdout",
          "text": [
            "Ingrese el primer número: 2\n",
            "Ingrese el segundo número: 6\n",
            "El resultado de la suma es: 8.0\n"
          ]
        }
      ]
    },
    {
      "cell_type": "code",
      "source": [
        "#Ejercicio 4\n",
        "\n"
      ],
      "metadata": {
        "id": "pmJK91ro61H-"
      },
      "execution_count": null,
      "outputs": []
    },
    {
      "cell_type": "markdown",
      "source": [
        "Ejercicio 5: Solicitar que se ingresen dos valores, luego solicitar que tipo de operación se quiere realizar (suma, resta, multiplicación o división). Luego mediante una función realizar la operación matematica e imprimir el resultado."
      ],
      "metadata": {
        "id": "WpNMP3M58Itp"
      }
    },
    {
      "cell_type": "code",
      "source": [
        "#Ejercicio 5\n",
        "#Función\n",
        "\n",
        "def calcular(a, b, operacion):\n",
        "    if operacion == \"suma\":\n",
        "        return a + b\n",
        "    elif operacion == \"resta\":\n",
        "        return a - b\n",
        "    elif operacion == \"multiplicacion\":\n",
        "        return a * b\n",
        "    elif operacion == \"division\":\n",
        "        if b != 0:\n",
        "            return a / b\n",
        "        else:\n",
        "            return \"Error: división por cero\"\n",
        "    else:\n",
        "        return \"Operación no válida\"\n",
        "\n",
        "num1 = float(input(\"Ingrese el primer número: \"))\n",
        "num2 = float(input(\"Ingrese el segundo número: \"))\n",
        "\n",
        "operacion = input(\"¿Qué operación desea realizar? (suma, resta, multiplicacion, division): \").lower()\n",
        "\n",
        "resultado = calcular(num1, num2, operacion)\n",
        "print(\"Resultado:\", resultado)"
      ],
      "metadata": {
        "id": "K6-5pjuX8jua",
        "colab": {
          "base_uri": "https://localhost:8080/"
        },
        "outputId": "a46cb1be-ded4-4c05-d7bb-2d24cdf3743a"
      },
      "execution_count": 9,
      "outputs": [
        {
          "output_type": "stream",
          "name": "stdout",
          "text": [
            "Ingrese el primer número: 8\n",
            "Ingrese el segundo número: 12\n",
            "¿Qué operación desea realizar? (suma, resta, multiplicacion, division): resta\n",
            "Resultado: -4.0\n"
          ]
        }
      ]
    },
    {
      "cell_type": "code",
      "source": [
        "#Ejercicio 5\n",
        "\n"
      ],
      "metadata": {
        "id": "tim3Z2_c8lSr"
      },
      "execution_count": null,
      "outputs": []
    }
  ]
}